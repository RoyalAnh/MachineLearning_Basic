{
 "cells": [
  {
   "cell_type": "markdown",
   "metadata": {},
   "source": [
    "# 1. Tính hàm mất mát và đạo hàm của nó bằng cách naive\n"
   ]
  },
  {
   "cell_type": "code",
   "execution_count": 7,
   "metadata": {},
   "outputs": [
    {
     "name": "stdout",
     "output_type": "stream",
     "text": [
      "loss without regularization: 3.1835556958489635\n",
      "loss with regularization: 3.9254105280090683\n"
     ]
    }
   ],
   "source": [
    "import numpy as np\n",
    "from random import shuffle #  xáo trộn các phần tử trong danh sách\n",
    "\n",
    "# naive way to calculate loss and grad\n",
    "def svm_loss_naive(W, X, y, reg):\n",
    "    d, C = W.shape # d là số chiều dữ liệu và C là số lớp\n",
    "    _, N = X.shape # N là số mẫu\n",
    "    \n",
    "    ## naive loss and grad\n",
    "    loss = 0 \n",
    "    dW = np.zeros_like(W) # ma trận gradient, ban đầu được khởi tạo bằng ma trận zero có cùng kích thước với W\n",
    "    for n in range(N):\n",
    "        xn = X[:, n]\n",
    "        score = W.T.dot(xn) # nhân ma trận trọng số W với dữ liệu xn\n",
    "        for j in range(C):\n",
    "            if j == y[n]:\n",
    "                continue \n",
    "            margin = 1 - score[y[n]] + score[j]\n",
    "            if margin > 0: # Nếu biên lớn hơn 0, thêm biên vào tổn thất và cập nhật gradient tương ứng\n",
    "                loss += margin \n",
    "                dW[:, j] += xn \n",
    "                dW[:, y[n]] -= xn\n",
    "    \n",
    "    loss /= N \n",
    "    loss += 0.5*reg*np.sum(W * W) # regularization\n",
    "    \n",
    "    # Tính trung bình gradient cho tất cả các mẫu và thêm phần điều chuẩn\n",
    "    dW /= N \n",
    "    dW += reg*W # gradient off regularization \n",
    "    return loss, dW\n",
    "    \n",
    "# random, small data\n",
    "N, C, d = 10, 3, 5\n",
    "reg = .1 \n",
    "W = np.random.randn(d, C)\n",
    "X = np.random.randn(d, N)\n",
    "y = np.random.randint(C, size = N)\n",
    "\n",
    "# sanity check\n",
    "print ('loss without regularization:', svm_loss_naive(W, X, y, 0)[0])\n",
    "print ('loss with regularization:', svm_loss_naive(W, X, y, .1)[0])"
   ]
  },
  {
   "cell_type": "markdown",
   "metadata": {},
   "source": [
    "### So sánh với Numerical Gradient"
   ]
  },
  {
   "cell_type": "code",
   "execution_count": 9,
   "metadata": {},
   "outputs": [
    {
     "name": "stdout",
     "output_type": "stream",
     "text": [
      "gradient difference: 0.000000\n"
     ]
    }
   ],
   "source": [
    "f = lambda W: svm_loss_naive(W, X, y, .1)[0]\n",
    "\n",
    "# for checking if calculated grad is correct\n",
    "def numerical_grad_general(W, f):\n",
    "    eps = 1e-6\n",
    "    g = np.zeros_like(W)\n",
    "    # flatening variable -> 1d. Then we need \n",
    "    # only one for loop\n",
    "    W_flattened = W.flatten()\n",
    "    g_flattened = np.zeros_like(W_flattened)\n",
    "    \n",
    "    for i in range(W.size):\n",
    "        W_p = W_flattened.copy()\n",
    "        W_n = W_flattened.copy()\n",
    "        W_p[i] += eps \n",
    "        W_n[i] -= eps \n",
    "        \n",
    "        # back to shape of W \n",
    "        W_p = W_p.reshape(W.shape)\n",
    "        W_n = W_n.reshape(W.shape)\n",
    "        g_flattened[i] = (f(W_p) - f(W_n))/(2*eps)\n",
    "        \n",
    "    # convert back to original shape\n",
    "    return g_flattened.reshape(W.shape) \n",
    "\n",
    "# compare two ways of computing gradient\n",
    "g1 = svm_loss_naive(W, X, y, .1)[1]\n",
    "g2 = numerical_grad_general(W, f)\n",
    "print ('gradient difference: %f' %np.linalg.norm(g1 - g2) )\n",
    "# this should be very small"
   ]
  },
  {
   "cell_type": "markdown",
   "metadata": {},
   "source": [
    "# 2. Tính hàm mất mát và đạo hàm của nó bằng cách vectorized"
   ]
  },
  {
   "cell_type": "code",
   "execution_count": 10,
   "metadata": {},
   "outputs": [
    {
     "name": "stdout",
     "output_type": "stream",
     "text": [
      "Naive     : run time: 10.17375659942627 (s)\n",
      "Vectorized: run time: 0.36539220809936523 (s)\n",
      "loss difference: 1.5916157281026244e-12\n",
      "gradient difference: 2.7081742929179115e-14\n"
     ]
    }
   ],
   "source": [
    "# more efficient way to compute loss and grad\n",
    "def svm_loss_vectorized(W, X, y, reg):\n",
    "    d, C = W.shape \n",
    "    _, N = X.shape \n",
    "    loss = 0 \n",
    "    dW = np.zeros_like(W)\n",
    "    \n",
    "    Z = W.T.dot(X)     \n",
    "    \n",
    "    correct_class_score = np.choose(y, Z).reshape(N,1).T     \n",
    "    margins = np.maximum(0, Z - correct_class_score + 1) \n",
    "    margins[y, np.arange(margins.shape[1])] = 0\n",
    "    loss = np.sum(margins, axis = (0, 1))\n",
    "    loss /= N \n",
    "    loss += 0.5 * reg * np.sum(W * W)\n",
    "    \n",
    "    F = (margins > 0).astype(int)\n",
    "    F[y, np.arange(F.shape[1])] = np.sum(-F, axis = 0)\n",
    "    dW = X.dot(F.T)/N + reg*W\n",
    "    return loss, dW\n",
    "\n",
    "N, C, d = 49000, 10, 3073\n",
    "reg = .1 \n",
    "W = np.random.randn(d, C)\n",
    "X = np.random.randn(d, N)\n",
    "y = np.random.randint(C, size = N)\n",
    "\n",
    "import time \n",
    "t1 = time.time()\n",
    "l1, dW1 = svm_loss_naive(W, X, y, reg)\n",
    "t2 = time.time()\n",
    "print ('Naive     : run time:', t2 - t1, '(s)')\n",
    "\n",
    "t1 = time.time()\n",
    "l2, dW2 = svm_loss_vectorized(W, X, y, reg)\n",
    "t2 = time.time()\n",
    "print ('Vectorized: run time:', t2 - t1, '(s)')\n",
    "print ('loss difference:', np.linalg.norm(l1 - l2))\n",
    "print ('gradient difference:', np.linalg.norm(dW1 - dW2))"
   ]
  },
  {
   "cell_type": "markdown",
   "metadata": {},
   "source": [
    "# 3. Gradient Descent cho Multi-class SVM"
   ]
  },
  {
   "cell_type": "code",
   "execution_count": 11,
   "metadata": {},
   "outputs": [
    {
     "name": "stdout",
     "output_type": "stream",
     "text": [
      "it 1/1000, loss = 1798.321064\n",
      "it 101/1000, loss = 239.610076\n",
      "it 201/1000, loss = 54.530875\n",
      "it 301/1000, loss = 38.269853\n",
      "it 401/1000, loss = 43.943715\n",
      "it 501/1000, loss = 41.035498\n",
      "it 601/1000, loss = 39.490656\n",
      "it 701/1000, loss = 39.554166\n",
      "it 801/1000, loss = 36.343784\n",
      "it 901/1000, loss = 43.944409\n"
     ]
    }
   ],
   "source": [
    "# Mini-batch gradient descent\n",
    "def multiclass_svm_GD(X, y, Winit, reg, lr=.1, \\\n",
    "        batch_size = 100, num_iters = 1000, print_every = 100):\n",
    "    W = Winit \n",
    "    loss_history = np.zeros((num_iters))\n",
    "    for it in range(num_iters):\n",
    "        # randomly pick a batch of X\n",
    "        idx = np.random.choice(X.shape[1], batch_size)\n",
    "        X_batch = X[:, idx]\n",
    "        y_batch = y[idx]\n",
    "\n",
    "        loss_history[it], dW = \\\n",
    "            svm_loss_vectorized(W, X_batch, y_batch, reg)\n",
    "\n",
    "        W -= lr*dW \n",
    "        if it % print_every == 1:\n",
    "            print ('it %d/%d, loss = %f' \\\n",
    "                %(it, num_iters, loss_history[it]))\n",
    "\n",
    "    return W, loss_history \n",
    "\n",
    "N, C, d = 49000, 10, 3073\n",
    "reg = .1 \n",
    "W = np.random.randn(d, C)\n",
    "X = np.random.randn(d, N)\n",
    "y = np.random.randint(C, size = N)\n",
    "\n",
    "W, loss_history = multiclass_svm_GD(X, y, W, reg)"
   ]
  },
  {
   "cell_type": "markdown",
   "metadata": {},
   "source": [
    "### visisualize giá trị của loss sau mỗi vòng lặp"
   ]
  },
  {
   "cell_type": "code",
   "execution_count": 12,
   "metadata": {},
   "outputs": [
    {
     "data": {
      "image/png": "[encoded data removed]",
      "text/plain": [
       "<Figure size 640x480 with 1 Axes>"
      ]
     },
     "metadata": {},
     "output_type": "display_data"
    }
   ],
   "source": [
    "import matplotlib.pyplot as plt\n",
    "# plot loss as a function of iteration\n",
    "plt.plot(loss_history)\n",
    "plt.show()"
   ]
  }
 ],
 "metadata": {
  "kernelspec": {
   "display_name": "Python 3",
   "language": "python",
   "name": "python3"
  },
  "language_info": {
   "codemirror_mode": {
    "name": "ipython",
    "version": 3
   },
   "file_extension": ".py",
   "mimetype": "text/x-python",
   "name": "python",
   "nbconvert_exporter": "python",
   "pygments_lexer": "ipython3",
   "version": "3.12.2"
  }
 },
 "nbformat": 4,
 "nbformat_minor": 2
}
